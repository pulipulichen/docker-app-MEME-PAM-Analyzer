{
 "cells": [
  {
   "cell_type": "code",
   "execution_count": null,
   "id": "e4b25ef5-bb8c-494a-8e15-16fe80889f2f",
   "metadata": {},
   "outputs": [],
   "source": [
    "def test(a):\n",
    "    print(\"ok\" + a)"
   ]
  }
 ],
 "metadata": {
  "kernelspec": {
   "display_name": "Python 3 (ipykernel)",
   "language": "python",
   "name": "python3"
  },
  "language_info": {
   "codemirror_mode": {
    "name": "ipython",
    "version": 3
   },
   "file_extension": ".py",
   "mimetype": "text/x-python",
   "name": "python",
   "nbconvert_exporter": "python",
   "pygments_lexer": "ipython3",
   "version": "3.10.6"
  }
 },
 "nbformat": 4,
 "nbformat_minor": 5
}
