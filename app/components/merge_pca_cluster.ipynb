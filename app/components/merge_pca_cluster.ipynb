{
 "cells": [
  {
   "cell_type": "code",
   "execution_count": 1,
   "id": "39260a49-3649-44b3-9ad4-16c247d8d1e3",
   "metadata": {},
   "outputs": [],
   "source": [
    "import pandas as pd\n",
    "from pyexcel_ods3 import save_data\n",
    "\n",
    "import os\n",
    "import glob\n",
    "\n",
    "def merge_pca_cluster(db_name, max_score_k):\n",
    "    # Find the first occurrence of \"-\" in the text\n",
    "    index_of_dash = db_name.find(\"-\")\n",
    "\n",
    "    if index_of_dash != -1:\n",
    "        result = db_name[index_of_dash + 1:]\n",
    "    else:\n",
    "        result = \"\"\n",
    "        \n",
    "    prefix_name = \"visual_patterns-\"\n",
    "    prefix_pca_name = \"visual_pca-\"\n",
    "    if db_name.startswith(\"semantic_cluster-\"):\n",
    "        prefix_name = \"semantic_patterns-\"\n",
    "        prefix_pca_name = \"semantic_pca-\"\n",
    "\n",
    "    output_ods_name = prefix_name + result[:-3] + \"-\" + str(max_score_k) +  \".ods\"\n",
    "    pca_name = prefix_pca_name + result\n",
    "    \n",
    "    # if os.path.isfile(f\"{DATA_PATH}/{output_ods_name}\"):\n",
    "        # return\n",
    "    \n",
    "    # ================\n",
    "    \n",
    "    df_cluster = get_clusters_df(db_name[:-3] + '-' + str(max_score_k) + '.db')\n",
    "    df_pca = get_pca_df(pca_name)\n",
    "    \n",
    "    merged_df = pd.merge(df_cluster, df_pca, on='image')\n",
    "    merged_df['image'] = merged_df['image'].str.lstrip('./')\n",
    "    \n",
    "    # print(merged_df)\n",
    "    \n",
    "    # ================\n",
    "    \n",
    "    df_url = DATASET.copy()\n",
    "    df_url = df_url.drop(columns=['cluster'])\n",
    "    df_url = df_url.drop(columns=['cluster_index'])\n",
    "    \n",
    "    temp_list = df_url['image'].apply(lambda x: f'./{x}' if not x.startswith(\"./\") else x)\n",
    "    # print('temp_list')\n",
    "    # print(temp_list)\n",
    "    df_url['image'] = df_url['image'].str.lstrip('./')\n",
    "    \n",
    "    # df_url['image'] = df_url['image'].apply(lambda x: f'{x}')\n",
    "    \n",
    "    # print(df_url)\n",
    "    # return\n",
    "    \n",
    "    merged_df = pd.merge(merged_df, df_url, on='image')\n",
    "    # print(merged_df)\n",
    "    \n",
    "    # ================\n",
    "    \n",
    "    save_data(f\"{DATA_PATH}/{output_ods_name}\", {\n",
    "        \"result\": [merged_df.columns.tolist()] + merged_df.values.tolist()\n",
    "    })"
   ]
  },
  {
   "cell_type": "code",
   "execution_count": null,
   "id": "6e67b156-27bc-43b8-94e7-b2e4c3c5f141",
   "metadata": {},
   "outputs": [],
   "source": [
    "def all_merge_pca_cluster(cluster_number_dict):\n",
    "    for db_path in build_db_path_list('cluster'):\n",
    "        print(db_path)\n",
    "        \n",
    "        db_name = os.path.basename(db_path)\n",
    "        \n",
    "        print(db_name)\n",
    "        max_score_k = cluster_number_dict[db_name]\n",
    "        \n",
    "        merge_pca_cluster(db_name, max_score_k)"
   ]
  },
  {
   "cell_type": "code",
   "execution_count": null,
   "id": "76d6485f-4232-4d0b-a501-334137da36b3",
   "metadata": {},
   "outputs": [],
   "source": [
    "# merge_pca_cluster(db_name)\n",
    "# all_merge_pca_cluster()"
   ]
  }
 ],
 "metadata": {
  "kernelspec": {
   "display_name": "Python 3 (ipykernel)",
   "language": "python",
   "name": "python3"
  },
  "language_info": {
   "codemirror_mode": {
    "name": "ipython",
    "version": 3
   },
   "file_extension": ".py",
   "mimetype": "text/x-python",
   "name": "python",
   "nbconvert_exporter": "python",
   "pygments_lexer": "ipython3",
   "version": "3.10.6"
  }
 },
 "nbformat": 4,
 "nbformat_minor": 5
}
