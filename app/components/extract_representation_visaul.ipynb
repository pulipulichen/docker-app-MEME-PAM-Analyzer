{
 "cells": [
  {
   "cell_type": "code",
   "execution_count": 2,
   "id": "36000ebc-7a60-4813-aff1-3c3ac7f1e385",
   "metadata": {},
   "outputs": [
    {
     "name": "stderr",
     "output_type": "stream",
     "text": [
      "2024-05-31 08:08:14.020187: I tensorflow/core/util/port.cc:113] oneDNN custom operations are on. You may see slightly different numerical results due to floating-point round-off errors from different computation orders. To turn them off, set the environment variable `TF_ENABLE_ONEDNN_OPTS=0`.\n",
      "2024-05-31 08:08:14.043639: E external/local_xla/xla/stream_executor/cuda/cuda_dnn.cc:9261] Unable to register cuDNN factory: Attempting to register factory for plugin cuDNN when one has already been registered\n",
      "2024-05-31 08:08:14.043678: E external/local_xla/xla/stream_executor/cuda/cuda_fft.cc:607] Unable to register cuFFT factory: Attempting to register factory for plugin cuFFT when one has already been registered\n",
      "2024-05-31 08:08:14.044419: E external/local_xla/xla/stream_executor/cuda/cuda_blas.cc:1515] Unable to register cuBLAS factory: Attempting to register factory for plugin cuBLAS when one has already been registered\n",
      "2024-05-31 08:08:14.048637: I tensorflow/core/platform/cpu_feature_guard.cc:182] This TensorFlow binary is optimized to use available CPU instructions in performance-critical operations.\n",
      "To enable the following instructions: AVX2 AVX512F AVX512_VNNI AVX512_BF16 FMA, in other operations, rebuild TensorFlow with the appropriate compiler flags.\n",
      "2024-05-31 08:08:14.510849: W tensorflow/compiler/tf2tensorrt/utils/py_utils.cc:38] TF-TRT Warning: Could not find TensorRT\n"
     ]
    }
   ],
   "source": [
    "import tensorflow.keras as keras\n",
    "import numpy as np\n",
    "\n",
    "from keras.models import Model as KerasModel\n",
    "from tensorflow.keras.preprocessing import image as keras_image\n",
    "from keras.applications.imagenet_utils import decode_predictions, preprocess_input\n",
    "\n",
    "def extract_representation_visaul(image_path, model_name, model_config, layer):\n",
    "    \n",
    "    Feature = db_feature(f\"visual_representation-{model_name}_{layer}.db\")\n",
    "    \n",
    "    # ============\n",
    "    \n",
    "    row = Feature.get_or_none(Feature.image == image_path)\n",
    "    \n",
    "    if row is not None:\n",
    "        #print(\"Features is extracted: \" + image_path)\n",
    "        return np.array(eval(row.features), dtype=np.float32)\n",
    "    \n",
    "    # ============\n",
    "    \n",
    "    preprocess_visual(image_path)\n",
    "    \n",
    "    cropped_image_path = image_path + '.crop.jpg'\n",
    "    \n",
    "    # ============\n",
    "    \n",
    "    # model=keras.applications.convnext.ConvNeXtXLarge(weights=\"imagenet\",include_top=True)\n",
    "    model=eval(model_config)\n",
    "    \n",
    "    # ============\n",
    "    \n",
    "    img=keras_image.load_img(cropped_image_path,target_size=model.input_shape[1:3])\n",
    "    x=keras_image.img_to_array(img)\n",
    "    x=np.expand_dims(x,axis=0)\n",
    "    # print(x)\n",
    "    x=preprocess_input(x)\n",
    "    # print(x)\n",
    "    \n",
    "    # ============\n",
    "    \n",
    "    # model.summary()\n",
    "    # print(model_name)\n",
    "    # print(layer)\n",
    "    \n",
    "    # feat_extractor=Model(inputs=model.input,outputs=model.get_layer(\"convnext_xlarge_head_gap\").output[0])\n",
    "    try:\n",
    "        feat_extractor=KerasModel(inputs=model.input,outputs=model.get_layer(layer).output[0])\n",
    "    except Exception as e:\n",
    "        print(\"Error: \" + model_name)\n",
    "        raise e\n",
    "        \n",
    "    feat = feat_extractor.predict(x)\n",
    "    # print(type(feat))\n",
    "    \n",
    "    feat_list = feat.flatten().tolist()\n",
    "    # feat_list = [item for sublist in feat_list for item in sublist]\n",
    "\n",
    "    # ============\n",
    "    \n",
    "    Feature(image=image_path, features=str(feat_list)).save()\n",
    "    return feat\n",
    "    "
   ]
  },
  {
   "cell_type": "code",
   "execution_count": null,
   "id": "c486972e-6499-4079-a010-e6798df730eb",
   "metadata": {},
   "outputs": [],
   "source": []
  }
 ],
 "metadata": {
  "kernelspec": {
   "display_name": "Python 3 (ipykernel)",
   "language": "python",
   "name": "python3"
  },
  "language_info": {
   "codemirror_mode": {
    "name": "ipython",
    "version": 3
   },
   "file_extension": ".py",
   "mimetype": "text/x-python",
   "name": "python",
   "nbconvert_exporter": "python",
   "pygments_lexer": "ipython3",
   "version": "3.10.6"
  }
 },
 "nbformat": 4,
 "nbformat_minor": 5
}
