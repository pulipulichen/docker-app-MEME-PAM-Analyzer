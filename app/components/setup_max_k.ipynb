{
 "cells": [
  {
   "cell_type": "code",
   "execution_count": null,
   "id": "554ddea1-781d-4680-81dd-0f903e1eb4f8",
   "metadata": {},
   "outputs": [],
   "source": [
    "\n",
    "try:\n",
    "    MAX_K = int(MAX_K_INPUT)  # Try to parse MAX_K_INPUT as an integer\n",
    "except ValueError:\n",
    "    MAX_K = None  # Set MAX_K to None if parsing fails\n",
    "\n",
    "if MAX_K is None:\n",
    "    num_rows = len(DATASET)\n",
    "    MAX_K = int(num_rows/3)\n",
    "    if MAX_K > 20:\n",
    "        MAX_K = 20\n",
    "        \n",
    "if CALC_F1_SCORE is True:\n",
    "    MAX_K = 2\n",
    "        \n",
    "        \n",
    "print(f\"MAX_K is {MAX_K}\")\n",
    "\n",
    "MIN_K = int(MIN_K_INPUT)"
   ]
  }
 ],
 "metadata": {
  "kernelspec": {
   "display_name": "Python 3 (ipykernel)",
   "language": "python",
   "name": "python3"
  },
  "language_info": {
   "codemirror_mode": {
    "name": "ipython",
    "version": 3
   },
   "file_extension": ".py",
   "mimetype": "text/x-python",
   "name": "python",
   "nbconvert_exporter": "python",
   "pygments_lexer": "ipython3",
   "version": "3.10.6"
  }
 },
 "nbformat": 4,
 "nbformat_minor": 5
}
