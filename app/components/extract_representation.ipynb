{
 "cells": [
  {
   "cell_type": "code",
   "execution_count": 1,
   "id": "edd5a0df-c515-4169-8b27-ebee16b85a3b",
   "metadata": {},
   "outputs": [
    {
     "ename": "SyntaxError",
     "evalue": "unterminated string literal (detected at line 9) (3098868733.py, line 9)",
     "output_type": "error",
     "traceback": [
      "\u001b[0;36m  Cell \u001b[0;32mIn [1], line 9\u001b[0;36m\u001b[0m\n\u001b[0;31m    layer = item.layer\"\u001b[0m\n\u001b[0m                      ^\u001b[0m\n\u001b[0;31mSyntaxError\u001b[0m\u001b[0;31m:\u001b[0m unterminated string literal (detected at line 9)\n"
     ]
    }
   ],
   "source": [
    "def extract_representation():\n",
    "    image_list = DATASET.image.to_list()\n",
    "    \n",
    "    for image_path in image_list:\n",
    "        for item in MODEL_LIST_VISUAL_LIST:\n",
    "            \n",
    "            model_name = item[\"model_name\"]\n",
    "            model_config = item[\"model_config\"]\n",
    "            layer = item[\"layer\"]\n",
    "            \n",
    "            extract_representation_visaul(\n",
    "                image_path=image_path, \n",
    "                model_name=model_name,\n",
    "                model_config=model_config,\n",
    "                layer=layer\n",
    "            )\n",
    "        \n",
    "        for model_name in MODEL_LIST_SEMANTIC_LIST:\n",
    "            \n",
    "            extract_representation_semantic(\n",
    "                image_path=image_path, \n",
    "                model_name=model_name\n",
    "            )\n",
    "            "
   ]
  },
  {
   "cell_type": "code",
   "execution_count": null,
   "id": "0bb9ab17-76ed-4eac-8a63-7c314360ff49",
   "metadata": {},
   "outputs": [],
   "source": [
    "# extract_representation()"
   ]
  }
 ],
 "metadata": {
  "kernelspec": {
   "display_name": "Python 3 (ipykernel)",
   "language": "python",
   "name": "python3"
  },
  "language_info": {
   "codemirror_mode": {
    "name": "ipython",
    "version": 3
   },
   "file_extension": ".py",
   "mimetype": "text/x-python",
   "name": "python",
   "nbconvert_exporter": "python",
   "pygments_lexer": "ipython3",
   "version": "3.10.6"
  }
 },
 "nbformat": 4,
 "nbformat_minor": 5
}
