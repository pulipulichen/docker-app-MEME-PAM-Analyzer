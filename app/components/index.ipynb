{
 "cells": [
  {
   "cell_type": "code",
   "execution_count": null,
   "id": "92e69ad8-57dd-4495-8924-a0fe2ca17f80",
   "metadata": {},
   "outputs": [],
   "source": [
    "%run ./components/db_feature.ipynb\n",
    "%run ./components/db_pca.ipynb\n",
    "%run ./components/db_cluster.ipynb\n",
    "\n",
    "%run ./components/form.ipynb\n",
    "%run ./components/load_dataset.ipynb\n",
    "%run ./components/setup_max_k.ipynb\n",
    "\n",
    "%run ./components/preprocess_visual.ipynb\n",
    "%run ./components/extract_representation_visaul.ipynb\n",
    "\n",
    "%run ./components/preprocess_semantic.ipynb\n",
    "%run ./components/extract_representation_semantic.ipynb\n",
    "\n",
    "%run ./components/extract_representation.ipynb\n",
    "\n",
    "%run ./components/features_to_pca.ipynb\n",
    "\n",
    "%run ./components/features_to_cluster.ipynb\n",
    "%run ./components/cluster_to_f1score.ipynb\n"
   ]
  }
 ],
 "metadata": {
  "kernelspec": {
   "display_name": "Python 3 (ipykernel)",
   "language": "python",
   "name": "python3"
  },
  "language_info": {
   "codemirror_mode": {
    "name": "ipython",
    "version": 3
   },
   "file_extension": ".py",
   "mimetype": "text/x-python",
   "name": "python",
   "nbconvert_exporter": "python",
   "pygments_lexer": "ipython3",
   "version": "3.10.6"
  }
 },
 "nbformat": 4,
 "nbformat_minor": 5
}
