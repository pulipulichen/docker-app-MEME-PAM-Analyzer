{
 "cells": [
  {
   "cell_type": "code",
   "execution_count": 1,
   "id": "d6fd46f3-01fb-4157-af39-d677119c4da1",
   "metadata": {},
   "outputs": [],
   "source": [
    "from peewee import CharField, TextField, SqliteDatabase, Model as PeeWeeModel\n",
    "\n",
    "def db_feature(db_name):\n",
    "    db = SqliteDatabase(f\"{DATA_PATH}/{db_name}\")\n",
    "    \n",
    "    class Feature(PeeWeeModel):\n",
    "        image = CharField()\n",
    "        features = TextField()\n",
    "\n",
    "        class Meta:\n",
    "            database = db # This model uses the \"people.db\" database.\n",
    "\n",
    "    \n",
    "    db.connect()\n",
    "    db.create_tables([Feature])\n",
    "    \n",
    "    return Feature"
   ]
  },
  {
   "cell_type": "code",
   "execution_count": null,
   "id": "e45690aa-2a9f-46a4-921e-7b2e2eaa5821",
   "metadata": {},
   "outputs": [],
   "source": [
    "def get_features_2d_array(db_name):\n",
    "    Feature = db_feature(db_name)\n",
    "    \n",
    "    records = Feature.select().dicts()\n",
    "    \n",
    "    # records_len = len(records)\n",
    "    \n",
    "    image_list = []\n",
    "    features2DArray = []\n",
    "    \n",
    "    for row in records:\n",
    "        # print(row)\n",
    "        image_list.append(row[\"image\"])\n",
    "        features2DArray.append(eval(row[\"features\"]))\n",
    "        \n",
    "    return image_list, features2DArray"
   ]
  }
 ],
 "metadata": {
  "kernelspec": {
   "display_name": "Python 3 (ipykernel)",
   "language": "python",
   "name": "python3"
  },
  "language_info": {
   "codemirror_mode": {
    "name": "ipython",
    "version": 3
   },
   "file_extension": ".py",
   "mimetype": "text/x-python",
   "name": "python",
   "nbconvert_exporter": "python",
   "pygments_lexer": "ipython3",
   "version": "3.10.6"
  }
 },
 "nbformat": 4,
 "nbformat_minor": 5
}
