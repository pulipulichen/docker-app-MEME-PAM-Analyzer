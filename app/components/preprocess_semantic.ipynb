{
 "cells": [
  {
   "cell_type": "code",
   "execution_count": 25,
   "id": "8c5c6e92-4067-44ec-9886-587943af3627",
   "metadata": {},
   "outputs": [],
   "source": [
    "if 'pipeline' not in globals():\n",
    "\n",
    "    import keras_ocr\n",
    "    from PIL import Image\n",
    "    import os\n",
    "\n",
    "    # Load the pre-trained model\n",
    "    pipeline = keras_ocr.pipeline.Pipeline()\n",
    "    \n",
    "def extract_text_from_image(image_path):\n",
    "    if os.path.isfile(image_path) is False:\n",
    "        return False\n",
    "    \n",
    "#     image = Image.open(image_path)\n",
    "    \n",
    "#     print(image)\n",
    "    \n",
    "#     # Perform OCR on the image\n",
    "#     prediction_groups = pipeline.recognize([image])\n",
    "\n",
    "#     # Extract recognized text\n",
    "#     text = [text for _, text in prediction_groups[0]]\n",
    "    images = [\n",
    "        keras_ocr.tools.read(img) for img in [image_path]\n",
    "    ]\n",
    "    \n",
    "    prediction_groups = pipeline.recognize(images)\n",
    "    output = []\n",
    "    for predicted_image in prediction_groups:\n",
    "        for text, box in predicted_image:\n",
    "            output.append(text)\n",
    "\n",
    "    output = \" \".join(output)\n",
    "    \n",
    "    while \"  \" in output:\n",
    "        output = output.replace(\"  \", \" \")\n",
    "            \n",
    "    # return \" \".join(text)\n",
    "    return output\n",
    "\n",
    "def preprocess_semantic(image_path):\n",
    "    if os.path.isfile(image_path) is False:\n",
    "        return False\n",
    "    \n",
    "    output_file_path = image_path + '.txt'\n",
    "    if os.path.isfile(output_file_path):\n",
    "        return\n",
    "    \n",
    "    print(\"[preprocess_semantic] \", image_path ,  datetime.datetime.now())\n",
    "    \n",
    "    output_text = extract_text_from_image(image_path)\n",
    "    \n",
    "    with open(output_file_path, 'w') as file:\n",
    "        file.write(output_text)"
   ]
  },
  {
   "cell_type": "code",
   "execution_count": 26,
   "id": "dec44b71-243c-45f5-b4ff-4f02e1698d35",
   "metadata": {},
   "outputs": [
    {
     "name": "stdout",
     "output_type": "stream",
     "text": [
      "1/1 [==============================] - 6s 6s/step\n",
      "1/1 [==============================] - 1s 679ms/step\n"
     ]
    }
   ],
   "source": [
    "# preprocess_semantic(\"./input/data/a/10th-Zoom-Meeting.avif.png\")"
   ]
  }
 ],
 "metadata": {
  "kernelspec": {
   "display_name": "Python 3 (ipykernel)",
   "language": "python",
   "name": "python3"
  },
  "language_info": {
   "codemirror_mode": {
    "name": "ipython",
    "version": 3
   },
   "file_extension": ".py",
   "mimetype": "text/x-python",
   "name": "python",
   "nbconvert_exporter": "python",
   "pygments_lexer": "ipython3",
   "version": "3.10.6"
  }
 },
 "nbformat": 4,
 "nbformat_minor": 5
}
