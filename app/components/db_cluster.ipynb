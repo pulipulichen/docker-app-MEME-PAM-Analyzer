{
 "cells": [
  {
   "cell_type": "code",
   "execution_count": 1,
   "id": "d6fd46f3-01fb-4157-af39-d677119c4da1",
   "metadata": {},
   "outputs": [],
   "source": [
    "from peewee import fn, CharField, IntegerField, FloatField, SqliteDatabase, Model as PeeWeeModel\n",
    "\n",
    "def db_cluster(db_name):\n",
    "    db = SqliteDatabase(f\"{DATA_PATH}/{db_name}\")\n",
    "    \n",
    "    class Cluster(PeeWeeModel):\n",
    "        image = CharField()\n",
    "        cluster = IntegerField()\n",
    "        distance = FloatField()\n",
    "\n",
    "        class Meta:\n",
    "            database = db # This model uses the \"people.db\" database.\n",
    "\n",
    "    \n",
    "    db.connect()\n",
    "    db.create_tables([Cluster])\n",
    "    \n",
    "    return Cluster"
   ]
  },
  {
   "cell_type": "code",
   "execution_count": 2,
   "id": "f2750c55-e705-4c31-bc55-6a20d94d30d7",
   "metadata": {},
   "outputs": [],
   "source": [
    "def get_clusters(db_name):\n",
    "    Cluster = db_cluster(db_name)\n",
    "    \n",
    "    records = Cluster.select().dicts()\n",
    "    \n",
    "    # records_len = len(records)\n",
    "    \n",
    "    image_list = []\n",
    "    cluster_list = []\n",
    "    distance_list = []\n",
    "    \n",
    "    for row in records:\n",
    "        # print(row)\n",
    "        image_list.append(row[\"image\"])\n",
    "        cluster_list.append(row[\"cluster\"])\n",
    "        distance_list.append(row[\"distance\"])\n",
    "        \n",
    "    return image_list, cluster_list, distance_list"
   ]
  },
  {
   "cell_type": "code",
   "execution_count": null,
   "id": "07bccb3e-dd1b-4816-b18c-6a2921601f92",
   "metadata": {},
   "outputs": [],
   "source": [
    "import pandas as pd\n",
    "\n",
    "def get_clusters_df(db_name):\n",
    "    Cluster = db_cluster(db_name)\n",
    "    \n",
    "    records = Cluster.select().dicts()\n",
    "    df = pd.DataFrame(list(records))\n",
    "    df = df.drop(columns=['id'])\n",
    "    \n",
    "    df = df.rename(columns={'cluster': 'pattern'})\n",
    "    df['pattern'] = df['pattern'].apply(lambda x: f'Pattern {x}')\n",
    "    \n",
    "    df = df.rename(columns={'distance': 'centroid_distance'})\n",
    "    \n",
    "    return df"
   ]
  },
  {
   "cell_type": "code",
   "execution_count": null,
   "id": "62f656d4-580d-4b77-80f9-fd8c0d023ae2",
   "metadata": {},
   "outputs": [],
   "source": [
    "import pandas as pd\n",
    "\n",
    "def db_cluster_remove_all_rows(db_name):\n",
    "    Cluster = db_cluster(db_name)\n",
    "    \n",
    "    return Cluster.delete().execute()"
   ]
  },
  {
   "cell_type": "code",
   "execution_count": null,
   "id": "6f57ac04-ecb2-45bf-94fc-15a4e8823d12",
   "metadata": {},
   "outputs": [],
   "source": []
  }
 ],
 "metadata": {
  "kernelspec": {
   "display_name": "Python 3 (ipykernel)",
   "language": "python",
   "name": "python3"
  },
  "language_info": {
   "codemirror_mode": {
    "name": "ipython",
    "version": 3
   },
   "file_extension": ".py",
   "mimetype": "text/x-python",
   "name": "python",
   "nbconvert_exporter": "python",
   "pygments_lexer": "ipython3",
   "version": "3.10.6"
  }
 },
 "nbformat": 4,
 "nbformat_minor": 5
}
