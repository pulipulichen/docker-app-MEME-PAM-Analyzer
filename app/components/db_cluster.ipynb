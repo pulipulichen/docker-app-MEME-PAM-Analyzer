{
 "cells": [
  {
   "cell_type": "code",
   "execution_count": 1,
   "id": "d6fd46f3-01fb-4157-af39-d677119c4da1",
   "metadata": {},
   "outputs": [],
   "source": [
    "from peewee import CharField, IntegerField, FloatField, SqliteDatabase, Model as PeeWeeModel\n",
    "\n",
    "def db_cluster(db_name):\n",
    "    db = SqliteDatabase(f\"./input/{db_name}\")\n",
    "    \n",
    "    class Cluster(PeeWeeModel):\n",
    "        image = CharField()\n",
    "        cluster = IntegerField()\n",
    "        distance = FloatField()\n",
    "\n",
    "        class Meta:\n",
    "            database = db # This model uses the \"people.db\" database.\n",
    "\n",
    "    \n",
    "    db.connect()\n",
    "    db.create_tables([Cluster])\n",
    "    \n",
    "    return Cluster"
   ]
  },
  {
   "cell_type": "code",
   "execution_count": null,
   "id": "f2750c55-e705-4c31-bc55-6a20d94d30d7",
   "metadata": {},
   "outputs": [],
   "source": [
    "def get_clusters(db_name):\n",
    "    Cluster = db_cluster(db_name)\n",
    "    \n",
    "    records = Cluster.select().dicts()\n",
    "    \n",
    "    # records_len = len(records)\n",
    "    \n",
    "    image_list = []\n",
    "    cluster_list = []\n",
    "    \n",
    "    for row in records:\n",
    "        # print(row)\n",
    "        image_list.append(row[\"image\"])\n",
    "        cluster_list.append(row[\"cluster\"])\n",
    "        \n",
    "    return image_list, cluster_list"
   ]
  }
 ],
 "metadata": {
  "kernelspec": {
   "display_name": "Python 3 (ipykernel)",
   "language": "python",
   "name": "python3"
  },
  "language_info": {
   "codemirror_mode": {
    "name": "ipython",
    "version": 3
   },
   "file_extension": ".py",
   "mimetype": "text/x-python",
   "name": "python",
   "nbconvert_exporter": "python",
   "pygments_lexer": "ipython3",
   "version": "3.10.6"
  }
 },
 "nbformat": 4,
 "nbformat_minor": 5
}
