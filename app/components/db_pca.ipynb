{
 "cells": [
  {
   "cell_type": "code",
   "execution_count": 1,
   "id": "d6fd46f3-01fb-4157-af39-d677119c4da1",
   "metadata": {},
   "outputs": [],
   "source": [
    "from peewee import CharField, TextField, FloatField, SqliteDatabase, Model as PeeWeeModel\n",
    "\n",
    "def db_pca(db_name):\n",
    "    db = SqliteDatabase(f\"{DATA_PATH}/{db_name}\")\n",
    "    \n",
    "    class PCA(PeeWeeModel):\n",
    "        image = CharField()\n",
    "        x = FloatField()\n",
    "        y = FloatField()\n",
    "\n",
    "        class Meta:\n",
    "            database = db # This model uses the \"people.db\" database.\n",
    "\n",
    "    \n",
    "    db.connect()\n",
    "    db.create_tables([PCA])\n",
    "    \n",
    "    return PCA"
   ]
  },
  {
   "cell_type": "code",
   "execution_count": 2,
   "id": "d37a53cc-880d-47f6-9b9c-1d300a1f9042",
   "metadata": {},
   "outputs": [],
   "source": [
    "def get_pca_df(db_name):\n",
    "    PCA = db_pca(db_name)\n",
    "    \n",
    "    records = PCA.select().dicts()\n",
    "    \n",
    "    df = pd.DataFrame(list(records))\n",
    "    df = df.drop(columns=['id'])\n",
    "    \n",
    "    return df"
   ]
  }
 ],
 "metadata": {
  "kernelspec": {
   "display_name": "Python 3 (ipykernel)",
   "language": "python",
   "name": "python3"
  },
  "language_info": {
   "codemirror_mode": {
    "name": "ipython",
    "version": 3
   },
   "file_extension": ".py",
   "mimetype": "text/x-python",
   "name": "python",
   "nbconvert_exporter": "python",
   "pygments_lexer": "ipython3",
   "version": "3.10.6"
  }
 },
 "nbformat": 4,
 "nbformat_minor": 5
}
