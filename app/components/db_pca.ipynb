{
 "cells": [
  {
   "cell_type": "code",
   "execution_count": null,
   "id": "d6fd46f3-01fb-4157-af39-d677119c4da1",
   "metadata": {},
   "outputs": [],
   "source": [
    "from peewee import CharField, TextField, FloatField, SqliteDatabase, Model as PeeWeeModel\n",
    "\n",
    "def db_pca(db_name):\n",
    "    db = SqliteDatabase(f\"./input/{db_name}\")\n",
    "    \n",
    "    class PCA(PeeWeeModel):\n",
    "        image = CharField()\n",
    "        x = FloatField()\n",
    "        y = FloatField()\n",
    "\n",
    "        class Meta:\n",
    "            database = db # This model uses the \"people.db\" database.\n",
    "\n",
    "    \n",
    "    db.connect()\n",
    "    db.create_tables([PCA])\n",
    "    \n",
    "    return PCA"
   ]
  }
 ],
 "metadata": {
  "kernelspec": {
   "display_name": "Python 3 (ipykernel)",
   "language": "python",
   "name": "python3"
  },
  "language_info": {
   "codemirror_mode": {
    "name": "ipython",
    "version": 3
   },
   "file_extension": ".py",
   "mimetype": "text/x-python",
   "name": "python",
   "nbconvert_exporter": "python",
   "pygments_lexer": "ipython3",
   "version": "3.10.6"
  }
 },
 "nbformat": 4,
 "nbformat_minor": 5
}
