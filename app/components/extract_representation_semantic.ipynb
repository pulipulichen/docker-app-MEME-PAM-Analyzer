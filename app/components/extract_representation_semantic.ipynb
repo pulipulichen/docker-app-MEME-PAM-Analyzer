{
 "cells": [
  {
   "cell_type": "code",
   "execution_count": 1,
   "id": "36000ebc-7a60-4813-aff1-3c3ac7f1e385",
   "metadata": {},
   "outputs": [
    {
     "name": "stderr",
     "output_type": "stream",
     "text": [
      "2024-01-28 15:36:03.612529: I tensorflow/core/util/port.cc:113] oneDNN custom operations are on. You may see slightly different numerical results due to floating-point round-off errors from different computation orders. To turn them off, set the environment variable `TF_ENABLE_ONEDNN_OPTS=0`.\n",
      "2024-01-28 15:36:03.618265: I external/local_tsl/tsl/cuda/cudart_stub.cc:31] Could not find cuda drivers on your machine, GPU will not be used.\n",
      "2024-01-28 15:36:03.656846: E external/local_xla/xla/stream_executor/cuda/cuda_dnn.cc:9261] Unable to register cuDNN factory: Attempting to register factory for plugin cuDNN when one has already been registered\n",
      "2024-01-28 15:36:03.656882: E external/local_xla/xla/stream_executor/cuda/cuda_fft.cc:607] Unable to register cuFFT factory: Attempting to register factory for plugin cuFFT when one has already been registered\n",
      "2024-01-28 15:36:03.658280: E external/local_xla/xla/stream_executor/cuda/cuda_blas.cc:1515] Unable to register cuBLAS factory: Attempting to register factory for plugin cuBLAS when one has already been registered\n",
      "2024-01-28 15:36:03.671206: I external/local_tsl/tsl/cuda/cudart_stub.cc:31] Could not find cuda drivers on your machine, GPU will not be used.\n",
      "2024-01-28 15:36:03.688070: I tensorflow/core/platform/cpu_feature_guard.cc:182] This TensorFlow binary is optimized to use available CPU instructions in performance-critical operations.\n",
      "To enable the following instructions: AVX2 AVX512F AVX512_VNNI FMA, in other operations, rebuild TensorFlow with the appropriate compiler flags.\n",
      "2024-01-28 15:36:05.356746: W tensorflow/compiler/tf2tensorrt/utils/py_utils.cc:38] TF-TRT Warning: Could not find TensorRT\n"
     ]
    }
   ],
   "source": [
    "from sentence_transformers import SentenceTransformer\n",
    "\n",
    "from peewee import CharField, TextField, SqliteDatabase, Model as PeeWeeModel\n",
    "\n",
    "def extract_representation_semantic(image_path, model_name):\n",
    "    \n",
    "    db = SqliteDatabase(f\"./input/semantic_representation-{model_name}.db\")\n",
    "    \n",
    "    class Feature(PeeWeeModel):\n",
    "        image = CharField()\n",
    "        features = TextField()\n",
    "\n",
    "        class Meta:\n",
    "            database = db # This model uses the \"people.db\" database.\n",
    "\n",
    "    \n",
    "    db.connect()\n",
    "    db.create_tables([Feature])\n",
    "    \n",
    "    # ============\n",
    "    \n",
    "    row = Feature.get_or_none(Feature.image == image_path)\n",
    "    \n",
    "    if row is not None:\n",
    "        return np.array(eval(row.features), dtype=np.float32)\n",
    "    \n",
    "    # ============\n",
    "    \n",
    "    preprocess_semantic(image_path)\n",
    "    \n",
    "    file_path = image_path + '.txt'\n",
    "    try:\n",
    "        with open(file_path, 'r') as file:\n",
    "            # Read the entire content of the file as a string\n",
    "            file_content = file.read()\n",
    "            # Now, 'file_content' contains the contents of the file as a string\n",
    "            # print(file_content)\n",
    "    except FileNotFoundError:\n",
    "        print(f\"The file '{file_path}' does not exist.\")\n",
    "    except Exception as e:\n",
    "        print(f\"An error occurred: {e}\")\n",
    "    \n",
    "    # ============\n",
    "    \n",
    "    embedder = SentenceTransformer(model_name)\n",
    "    corpus = file_content\n",
    "    feat = embedder.encode(corpus)\n",
    "    \n",
    "    feat_list = feat.tolist()\n",
    "    # ============\n",
    "    \n",
    "    Feature(image=image_path, features=str(feat_list)).save()\n",
    "    return feat\n",
    "    "
   ]
  },
  {
   "cell_type": "code",
   "execution_count": 13,
   "id": "0f280819-b45a-439c-a93a-54eb958c48fc",
   "metadata": {},
   "outputs": [
    {
     "ename": "NameError",
     "evalue": "name 'preprocess_visual_inpaint' is not defined",
     "output_type": "error",
     "traceback": [
      "\u001b[0;31m---------------------------------------------------------------------------\u001b[0m",
      "\u001b[0;31mNameError\u001b[0m                                 Traceback (most recent call last)",
      "Cell \u001b[0;32mIn [13], line 4\u001b[0m\n\u001b[1;32m      2\u001b[0m     preprocess_visual_inpaint(image_path)\n\u001b[1;32m      3\u001b[0m     preprocess_visual_crop(image_path \u001b[38;5;241m+\u001b[39m \u001b[38;5;124m'\u001b[39m\u001b[38;5;124m.inpaint.jpg\u001b[39m\u001b[38;5;124m'\u001b[39m)\n\u001b[0;32m----> 4\u001b[0m \u001b[43mextract_representation_visaul\u001b[49m\u001b[43m(\u001b[49m\n\u001b[1;32m      5\u001b[0m \u001b[43m    \u001b[49m\u001b[43mimage_path\u001b[49m\u001b[38;5;241;43m=\u001b[39;49m\u001b[38;5;124;43m'\u001b[39;49m\u001b[38;5;124;43m./input/data/a/10th-Zoom-Meeting.avif.png\u001b[39;49m\u001b[38;5;124;43m'\u001b[39;49m\u001b[43m,\u001b[49m\u001b[43m \u001b[49m\n\u001b[1;32m      6\u001b[0m \u001b[43m    \u001b[49m\u001b[43mmodel_name\u001b[49m\u001b[38;5;241;43m=\u001b[39;49m\u001b[38;5;124;43m\"\u001b[39;49m\u001b[38;5;124;43mConvNeXtXLarge\u001b[39;49m\u001b[38;5;124;43m\"\u001b[39;49m\u001b[43m,\u001b[49m\n\u001b[1;32m      7\u001b[0m \u001b[43m    \u001b[49m\u001b[43mmodel_config\u001b[49m\u001b[38;5;241;43m=\u001b[39;49m\u001b[38;5;124;43m'\u001b[39;49m\u001b[38;5;124;43mkeras.applications.convnext.ConvNeXtXLarge(weights=\u001b[39;49m\u001b[38;5;124;43m\"\u001b[39;49m\u001b[38;5;124;43mimagenet\u001b[39;49m\u001b[38;5;124;43m\"\u001b[39;49m\u001b[38;5;124;43m,include_top=True)\u001b[39;49m\u001b[38;5;124;43m'\u001b[39;49m\u001b[43m,\u001b[49m\n\u001b[1;32m      8\u001b[0m \u001b[43m    \u001b[49m\u001b[43mlayer\u001b[49m\u001b[38;5;241;43m=\u001b[39;49m\u001b[38;5;124;43m\"\u001b[39;49m\u001b[38;5;124;43mconvnext_xlarge_head_gap\u001b[39;49m\u001b[38;5;124;43m\"\u001b[39;49m\n\u001b[1;32m      9\u001b[0m \u001b[43m)\u001b[49m\n",
      "Cell \u001b[0;32mIn [11], line 33\u001b[0m, in \u001b[0;36mextract_representation_visaul\u001b[0;34m(image_path, model_name, model_config, layer)\u001b[0m\n\u001b[1;32m     29\u001b[0m     \u001b[38;5;28;01mreturn\u001b[39;00m np\u001b[38;5;241m.\u001b[39marray(\u001b[38;5;28meval\u001b[39m(row\u001b[38;5;241m.\u001b[39mfeatures))\n\u001b[1;32m     31\u001b[0m \u001b[38;5;66;03m# ============\u001b[39;00m\n\u001b[0;32m---> 33\u001b[0m \u001b[43mpreprocess_visual\u001b[49m\u001b[43m(\u001b[49m\u001b[43mimage_path\u001b[49m\u001b[43m)\u001b[49m\n\u001b[1;32m     35\u001b[0m cropped_image_path \u001b[38;5;241m=\u001b[39m image_path \u001b[38;5;241m+\u001b[39m \u001b[38;5;124m'\u001b[39m\u001b[38;5;124m.crop.jpg\u001b[39m\u001b[38;5;124m'\u001b[39m\n\u001b[1;32m     37\u001b[0m \u001b[38;5;66;03m# ============\u001b[39;00m\n\u001b[1;32m     38\u001b[0m \n\u001b[1;32m     39\u001b[0m \u001b[38;5;66;03m# model=keras.applications.convnext.ConvNeXtXLarge(weights=\"imagenet\",include_top=True)\u001b[39;00m\n",
      "Cell \u001b[0;32mIn [13], line 2\u001b[0m, in \u001b[0;36mpreprocess_visual\u001b[0;34m(image_path)\u001b[0m\n\u001b[1;32m      1\u001b[0m \u001b[38;5;28;01mdef\u001b[39;00m \u001b[38;5;21mpreprocess_visual\u001b[39m(image_path):\n\u001b[0;32m----> 2\u001b[0m     \u001b[43mpreprocess_visual_inpaint\u001b[49m(image_path)\n\u001b[1;32m      3\u001b[0m     preprocess_visual_crop(image_path \u001b[38;5;241m+\u001b[39m \u001b[38;5;124m'\u001b[39m\u001b[38;5;124m.inpaint.jpg\u001b[39m\u001b[38;5;124m'\u001b[39m)\n",
      "\u001b[0;31mNameError\u001b[0m: name 'preprocess_visual_inpaint' is not defined"
     ]
    }
   ],
   "source": [
    "# extract_representation_semantic(\n",
    "#     image_path='./input/data/a/10th-Zoom-Meeting.avif.png', \n",
    "#     model_name=\"distilroberta-base-paraphrase-v1\"\n",
    "# )"
   ]
  }
 ],
 "metadata": {
  "kernelspec": {
   "display_name": "Python 3 (ipykernel)",
   "language": "python",
   "name": "python3"
  },
  "language_info": {
   "codemirror_mode": {
    "name": "ipython",
    "version": 3
   },
   "file_extension": ".py",
   "mimetype": "text/x-python",
   "name": "python",
   "nbconvert_exporter": "python",
   "pygments_lexer": "ipython3",
   "version": "3.10.6"
  }
 },
 "nbformat": 4,
 "nbformat_minor": 5
}
