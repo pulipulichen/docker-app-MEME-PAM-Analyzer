{
 "cells": [
  {
   "cell_type": "code",
   "execution_count": 1,
   "id": "36000ebc-7a60-4813-aff1-3c3ac7f1e385",
   "metadata": {},
   "outputs": [
    {
     "name": "stderr",
     "output_type": "stream",
     "text": [
      "2024-01-28 15:36:03.612529: I tensorflow/core/util/port.cc:113] oneDNN custom operations are on. You may see slightly different numerical results due to floating-point round-off errors from different computation orders. To turn them off, set the environment variable `TF_ENABLE_ONEDNN_OPTS=0`.\n",
      "2024-01-28 15:36:03.618265: I external/local_tsl/tsl/cuda/cudart_stub.cc:31] Could not find cuda drivers on your machine, GPU will not be used.\n",
      "2024-01-28 15:36:03.656846: E external/local_xla/xla/stream_executor/cuda/cuda_dnn.cc:9261] Unable to register cuDNN factory: Attempting to register factory for plugin cuDNN when one has already been registered\n",
      "2024-01-28 15:36:03.656882: E external/local_xla/xla/stream_executor/cuda/cuda_fft.cc:607] Unable to register cuFFT factory: Attempting to register factory for plugin cuFFT when one has already been registered\n",
      "2024-01-28 15:36:03.658280: E external/local_xla/xla/stream_executor/cuda/cuda_blas.cc:1515] Unable to register cuBLAS factory: Attempting to register factory for plugin cuBLAS when one has already been registered\n",
      "2024-01-28 15:36:03.671206: I external/local_tsl/tsl/cuda/cudart_stub.cc:31] Could not find cuda drivers on your machine, GPU will not be used.\n",
      "2024-01-28 15:36:03.688070: I tensorflow/core/platform/cpu_feature_guard.cc:182] This TensorFlow binary is optimized to use available CPU instructions in performance-critical operations.\n",
      "To enable the following instructions: AVX2 AVX512F AVX512_VNNI FMA, in other operations, rebuild TensorFlow with the appropriate compiler flags.\n",
      "2024-01-28 15:36:05.356746: W tensorflow/compiler/tf2tensorrt/utils/py_utils.cc:38] TF-TRT Warning: Could not find TensorRT\n"
     ]
    }
   ],
   "source": [
    "from sentence_transformers import SentenceTransformer\n",
    "\n",
    "from peewee import CharField, TextField, SqliteDatabase, Model as PeeWeeModel\n",
    "\n",
    "def extract_representation_semantic(image_path, model_name):\n",
    "    \n",
    "    Feature = db_feature(f\"semantic_representation-{model_name}.db\")\n",
    "    \n",
    "    # ============\n",
    "    \n",
    "    row = Feature.get_or_none(Feature.image == image_path)\n",
    "    \n",
    "    if row is not None:\n",
    "        return np.array(eval(row.features), dtype=np.float32)\n",
    "    \n",
    "    # ============\n",
    "    \n",
    "    preprocess_semantic(image_path)\n",
    "    \n",
    "    file_path = image_path + '.txt'\n",
    "    try:\n",
    "        with open(file_path, 'r') as file:\n",
    "            # Read the entire content of the file as a string\n",
    "            file_content = file.read()\n",
    "            # Now, 'file_content' contains the contents of the file as a string\n",
    "            # print(file_content)\n",
    "    except FileNotFoundError:\n",
    "        print(f\"The file '{file_path}' does not exist.\")\n",
    "    except Exception as e:\n",
    "        print(f\"An error occurred: {e}\")\n",
    "    \n",
    "    # ============\n",
    "    \n",
    "    embedder = SentenceTransformer(model_name)\n",
    "    corpus = file_content\n",
    "    feat = embedder.encode(corpus)\n",
    "    \n",
    "    feat_list = feat.flatten().tolist()\n",
    "    # feat_list = [item for sublist in feat_list for item in sublist]\n",
    "    # ============\n",
    "    \n",
    "    Feature(image=image_path, features=str(feat_list)).save()\n",
    "    return feat\n",
    "    "
   ]
  }
 ],
 "metadata": {
  "kernelspec": {
   "display_name": "Python 3 (ipykernel)",
   "language": "python",
   "name": "python3"
  },
  "language_info": {
   "codemirror_mode": {
    "name": "ipython",
    "version": 3
   },
   "file_extension": ".py",
   "mimetype": "text/x-python",
   "name": "python",
   "nbconvert_exporter": "python",
   "pygments_lexer": "ipython3",
   "version": "3.10.6"
  }
 },
 "nbformat": 4,
 "nbformat_minor": 5
}
