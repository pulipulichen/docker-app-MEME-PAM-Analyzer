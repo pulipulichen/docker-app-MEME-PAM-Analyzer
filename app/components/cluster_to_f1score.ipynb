{
 "cells": [
  {
   "cell_type": "code",
   "execution_count": 1,
   "id": "d6bd28c1-b792-464c-8816-e5f52c97a2fd",
   "metadata": {},
   "outputs": [],
   "source": [
    "from sklearn.metrics import f1_score\n",
    "\n",
    "def cluster_to_f1score(db_name):\n",
    "          \n",
    "    image_list, predict_cluster_list = get_clusters(db_name)\n",
    "    \n",
    "    # print(predict_cluster_list)\n",
    "    \n",
    "    # print(DATASET)\n",
    "    \n",
    "    correct_cluster_list = []\n",
    "    for image_path in image_list:\n",
    "        # print(image_path)\n",
    "        if image_path.startswith(\"./\"):\n",
    "            image_path = image_path[2:]\n",
    "        # print(image_path)\n",
    "        correct_cluster = DATASET.loc[DATASET['image'] == image_path, \"cluster_index\"].values[0]\n",
    "        correct_cluster_list.append(correct_cluster)\n",
    "        \n",
    "    # print(correct_cluster_list)\n",
    "    \n",
    "    f1 = f1_score(correct_cluster_list, predict_cluster_list)\n",
    "    \n",
    "    if f1 < 0.5:\n",
    "        f1 = 1 - f1\n",
    "    \n",
    "    return f1"
   ]
  },
  {
   "cell_type": "code",
   "execution_count": null,
   "id": "43364e50-723b-44af-8e34-d1732dd9f017",
   "metadata": {},
   "outputs": [],
   "source": [
    "import pandas as pd\n",
    "from pyexcel_ods3 import save_data\n",
    "import os\n",
    "\n",
    "def db_clusters_to_f1scores():\n",
    "    if os.path.isfile(f\"./input/f1_result.ods\"):\n",
    "        return\n",
    "    \n",
    "    column_db_name = []\n",
    "    column_f1 = []\n",
    "    \n",
    "    for db_path in glob.glob(\"./input/*_cluster-*.db\"):\n",
    "        \n",
    "        db_name = os.path.basename(db_path)\n",
    "        column_db_name.append(db_name)\n",
    "        \n",
    "        f1 = cluster_to_f1score(db_name)\n",
    "        column_f1.append(f1)\n",
    "    \n",
    "    df = pd.DataFrame({\n",
    "        \"db\": column_db_name,\n",
    "        \"f1\": column_f1\n",
    "    })\n",
    "    # df.to_ods(f\"./input/{output_ods_name}\", sheet_name=\"result\")\n",
    "    save_data(f\"./input/f1_result.ods\", {\n",
    "        \"result\": [df.columns.tolist()] + df.values.tolist()\n",
    "    })"
   ]
  },
  {
   "cell_type": "code",
   "execution_count": 2,
   "id": "ae7e1c76-a314-46ab-84f2-e2d46aa058ba",
   "metadata": {},
   "outputs": [],
   "source": [
    "# cluster_to_f1score(\"semantic_cluster-distilroberta-base-paraphrase-v1.db\")\n",
    "# db_clusters_to_f1scores()"
   ]
  },
  {
   "cell_type": "code",
   "execution_count": null,
   "id": "9342023e-af04-4bca-b705-6407786c4c99",
   "metadata": {},
   "outputs": [],
   "source": [
    "\n",
    "#     predict_list = [0, 1, 1, 1, 1, 0, 1, 1, 1, 1, 1, 0]\n",
    "#     correct_list = [0, 0, 0, 0, 0, 0, 1, 1, 1, 1, 1, 1]\n",
    "    \n",
    "#     f1 = f1_score(correct_list, predict_list)\n",
    "#     print(\"1 F1 Score:\", f1)\n",
    "    \n",
    "#     predict_list = [0, 0, 0, 0, 0, 0, 1, 1, 1, 1, 1, 1]\n",
    "#     correct_list = [0, 0, 0, 0, 0, 0, 1, 1, 1, 1, 1, 1]\n",
    "    \n",
    "#     f1 = f1_score(correct_list, predict_list)\n",
    "#     print(\"2 F1 Score:\", f1)\n",
    "    \n",
    "#     predict_list = [1, 1, 1, 1, 1, 1, 0, 0, 0, 0, 0, 0]\n",
    "#     correct_list = [0, 0, 0, 0, 0, 0, 1, 1, 1, 1, 1, 1]\n",
    "    \n",
    "#     f1 = f1_score(correct_list, predict_list)\n",
    "#     print(\"3 F1 Score:\", f1)\n",
    "    \n",
    "#     predict_list = [1, 1, 1, 0, 0, 0, 0, 0, 0, 1, 1, 1]\n",
    "#     correct_list = [0, 0, 0, 0, 0, 0, 1, 1, 1, 1, 1, 1]\n",
    "    \n",
    "#     f1 = f1_score(correct_list, predict_list)\n",
    "#     print(\"3 F1 Score:\", f1)\n",
    "    \n",
    "    "
   ]
  }
 ],
 "metadata": {
  "kernelspec": {
   "display_name": "Python 3 (ipykernel)",
   "language": "python",
   "name": "python3"
  },
  "language_info": {
   "codemirror_mode": {
    "name": "ipython",
    "version": 3
   },
   "file_extension": ".py",
   "mimetype": "text/x-python",
   "name": "python",
   "nbconvert_exporter": "python",
   "pygments_lexer": "ipython3",
   "version": "3.10.6"
  }
 },
 "nbformat": 4,
 "nbformat_minor": 5
}
