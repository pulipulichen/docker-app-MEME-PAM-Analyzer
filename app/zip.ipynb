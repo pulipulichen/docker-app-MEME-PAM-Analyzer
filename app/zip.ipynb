{
 "cells": [
  {
   "cell_type": "code",
   "execution_count": 17,
   "id": "38fcf42f-a1e6-4c27-b0eb-4b911ba3f586",
   "metadata": {},
   "outputs": [
    {
     "name": "stdout",
     "output_type": "stream",
     "text": [
      "/opt/app/input/data_test_20240530-2322/memetest10pic/visual_representation-ConvNeXtLarge_convnext_large_head_layernorm.db\n",
      "/opt/app/input/data_test_20240530-2322/memetest10pic/semantic_representation-all-MiniLM-L12-v2.db\n",
      "/opt/app/input/data_test_20240530-2322/memetest10pic/visual_pca-ConvNeXtLarge_convnext_large_head_layernorm.db\n",
      "/opt/app/input/data_test_20240530-2322/memetest10pic/semantic_pca-all-MiniLM-L12-v2.db\n",
      "/opt/app/input/data_test_20240530-2322/memetest10pic/visual_cluster_validation-ConvNeXtLarge_convnext_large_head_layernorm.ods\n",
      "/opt/app/input/data_test_20240530-2322/memetest10pic/visual_cluster-ConvNeXtLarge_convnext_large_head_layernorm.db\n",
      "/opt/app/input/data_test_20240530-2322/memetest10pic/semantic_cluster_validation-all-MiniLM-L12-v2.ods\n",
      "/opt/app/input/data_test_20240530-2322/memetest10pic/semantic_cluster-all-MiniLM-L12-v2.db\n",
      "/opt/app/input/data_test_20240530-2322/memetest10pic/visual_patterns-ConvNeXtLarge_convnext_large_head_layernorm.ods\n",
      "/opt/app/input/data_test_20240530-2322/memetest10pic/semantic_patterns-all-MiniLM-L12-v2.ods\n",
      "/opt/app/input/data_test_20240530-2322/memetest10pic/f1_result.ods\n",
      "/opt/app/input/data_test_20240530-2322/memetest10pic/_Bubo__20230315T215620/0.jpg\n",
      "/opt/app/input/data_test_20240530-2322/memetest10pic/_Bubo__20230315T215620/tweet.txt\n",
      "/opt/app/input/data_test_20240530-2322/memetest10pic/_Bubo__20230315T215620/url.txt\n",
      "/opt/app/input/data_test_20240530-2322/memetest10pic/_Bubo__20230315T215620/0.jpg.txt\n",
      "/opt/app/input/data_test_20240530-2322/memetest10pic/_Bubo__20230315T215620/0.jpg.crop.jpg\n",
      "/opt/app/input/data_test_20240530-2322/memetest10pic/_iamjabir__20230409T222356/0.jpg\n",
      "/opt/app/input/data_test_20240530-2322/memetest10pic/_iamjabir__20230409T222356/tweet.txt\n",
      "/opt/app/input/data_test_20240530-2322/memetest10pic/_iamjabir__20230409T222356/url.txt\n",
      "/opt/app/input/data_test_20240530-2322/memetest10pic/_iamjabir__20230409T222356/0.jpg.txt\n",
      "/opt/app/input/data_test_20240530-2322/memetest10pic/_iamjabir__20230409T222356/0.jpg.crop.jpg\n",
      "/opt/app/input/data_test_20240530-2322/memetest10pic/_joonpiter__20200330T013009/0.jpg\n",
      "/opt/app/input/data_test_20240530-2322/memetest10pic/_joonpiter__20200330T013009/1.jpg\n",
      "/opt/app/input/data_test_20240530-2322/memetest10pic/_joonpiter__20200330T013009/tweet.txt\n",
      "/opt/app/input/data_test_20240530-2322/memetest10pic/_joonpiter__20200330T013009/url.txt\n",
      "/opt/app/input/data_test_20240530-2322/memetest10pic/_joonpiter__20200330T013009/0.jpg.txt\n",
      "/opt/app/input/data_test_20240530-2322/memetest10pic/_joonpiter__20200330T013009/0.jpg.crop.jpg\n",
      "/opt/app/input/data_test_20240530-2322/memetest10pic/_joonpiter__20200330T013009/1.jpg.txt\n",
      "/opt/app/input/data_test_20240530-2322/memetest10pic/_joonpiter__20200330T013009/1.jpg.crop.jpg\n",
      "/opt/app/input/data_test_20240530-2322/memetest10pic/_LINEFRIENDS_20230323T030130/0.jpg\n",
      "/opt/app/input/data_test_20240530-2322/memetest10pic/_LINEFRIENDS_20230323T030130/tweet.txt\n",
      "/opt/app/input/data_test_20240530-2322/memetest10pic/_LINEFRIENDS_20230323T030130/url.txt\n",
      "/opt/app/input/data_test_20240530-2322/memetest10pic/_LINEFRIENDS_20230323T030130/0.jpg.txt\n",
      "/opt/app/input/data_test_20240530-2322/memetest10pic/_LINEFRIENDS_20230323T030130/0.jpg.crop.jpg\n",
      "/opt/app/input/data_test_20240530-2322/memetest10pic/_SHABIL_AHMED__20230307T071354/0.jpg\n",
      "/opt/app/input/data_test_20240530-2322/memetest10pic/_SHABIL_AHMED__20230307T071354/tweet.txt\n",
      "/opt/app/input/data_test_20240530-2322/memetest10pic/_SHABIL_AHMED__20230307T071354/url.txt\n",
      "/opt/app/input/data_test_20240530-2322/memetest10pic/_SHABIL_AHMED__20230307T071354/0.jpg.txt\n",
      "/opt/app/input/data_test_20240530-2322/memetest10pic/_SHABIL_AHMED__20230307T071354/0.jpg.crop.jpg\n",
      "/opt/app/input/data_test_20240530-2322/memetest10pic/_showflicks_20230103T213005/0.alt.txt\n",
      "/opt/app/input/data_test_20240530-2322/memetest10pic/_showflicks_20230103T213005/0.jpg\n",
      "/opt/app/input/data_test_20240530-2322/memetest10pic/_showflicks_20230103T213005/tweet.txt\n",
      "/opt/app/input/data_test_20240530-2322/memetest10pic/_showflicks_20230103T213005/url.txt\n",
      "/opt/app/input/data_test_20240530-2322/memetest10pic/_showflicks_20230103T213005/0.jpg.txt\n",
      "/opt/app/input/data_test_20240530-2322/memetest10pic/_showflicks_20230103T213005/0.jpg.crop.jpg\n",
      "/opt/app/input/data_test_20240530-2322/memetest10pic/_Tokenomeme_20230105T103501/0.jpg\n",
      "/opt/app/input/data_test_20240530-2322/memetest10pic/_Tokenomeme_20230105T103501/tweet.txt\n",
      "/opt/app/input/data_test_20240530-2322/memetest10pic/_Tokenomeme_20230105T103501/url.txt\n",
      "/opt/app/input/data_test_20240530-2322/memetest10pic/_Tokenomeme_20230105T103501/0.jpg.txt\n",
      "/opt/app/input/data_test_20240530-2322/memetest10pic/_Tokenomeme_20230105T103501/0.jpg.crop.jpg\n",
      "/opt/app/input/data_test_20240530-2322/memetest10pic/_Tokenomeme_20230206T103501/0.jpg\n",
      "/opt/app/input/data_test_20240530-2322/memetest10pic/_Tokenomeme_20230206T103501/tweet.txt\n",
      "/opt/app/input/data_test_20240530-2322/memetest10pic/_Tokenomeme_20230206T103501/url.txt\n",
      "/opt/app/input/data_test_20240530-2322/memetest10pic/_Tokenomeme_20230206T103501/0.jpg.txt\n",
      "/opt/app/input/data_test_20240530-2322/memetest10pic/_Tokenomeme_20230206T103501/0.jpg.crop.jpg\n",
      "/opt/app/input/data_test_20240530-2322/memetest10pic/_Tokenomeme_20230212T150915/0.jpg\n",
      "/opt/app/input/data_test_20240530-2322/memetest10pic/_Tokenomeme_20230212T150915/tweet.txt\n",
      "/opt/app/input/data_test_20240530-2322/memetest10pic/_Tokenomeme_20230212T150915/url.txt\n",
      "/opt/app/input/data_test_20240530-2322/memetest10pic/_Tokenomeme_20230212T150915/0.jpg.txt\n",
      "/opt/app/input/data_test_20240530-2322/memetest10pic/_Tokenomeme_20230212T150915/0.jpg.crop.jpg\n",
      "/opt/app/input/data_test_20240530-2322/memetest10pic/_Tokenomeme_20230305T140124/0.jpg\n",
      "/opt/app/input/data_test_20240530-2322/memetest10pic/_Tokenomeme_20230305T140124/tweet.txt\n",
      "/opt/app/input/data_test_20240530-2322/memetest10pic/_Tokenomeme_20230305T140124/url.txt\n",
      "/opt/app/input/data_test_20240530-2322/memetest10pic/_Tokenomeme_20230305T140124/0.jpg.txt\n",
      "/opt/app/input/data_test_20240530-2322/memetest10pic/_Tokenomeme_20230305T140124/0.jpg.crop.jpg\n",
      "/opt/app/input/data_test_20240530-2322/memetest10pic has been compressed and saved to /opt/app/input/memetest10pic.zip\n"
     ]
    }
   ],
   "source": [
    "import zipfile\n",
    "import os\n",
    "\n",
    "def compress_folder(folder_path, output_folder):\n",
    "    folder_name = os.path.basename(folder_path)\n",
    "    zip_file_path = os.path.join(output_folder, folder_name + '.zip')\n",
    "    \n",
    "    with zipfile.ZipFile(zip_file_path, 'w', zipfile.ZIP_DEFLATED) as zipf:\n",
    "        for root, dirs, files in os.walk(folder_path):\n",
    "            for file in files:\n",
    "                file_path = os.path.join(root, file)\n",
    "                print(file_path)\n",
    "                zipf.write(file_path, os.path.relpath(file_path, folder_path))\n",
    "    \n",
    "    print(f\"{folder_path} has been compressed and saved to {zip_file_path}\")\n",
    "\n",
    "# 使用範例\n",
    "folder_to_compress = '/opt/app/input/data_test_20240530-2322/memetest10pic'\n",
    "destination_folder = '/opt/app/input/'\n",
    "compress_folder(folder_to_compress, destination_folder)\n"
   ]
  },
  {
   "cell_type": "code",
   "execution_count": 15,
   "id": "69ddb449-2ecb-432a-8fb6-19066aa38cfd",
   "metadata": {},
   "outputs": [
    {
     "name": "stdout",
     "output_type": "stream",
     "text": [
      "/opt/app\n"
     ]
    }
   ],
   "source": [
    "!"
   ]
  },
  {
   "cell_type": "code",
   "execution_count": 14,
   "id": "b8cb674c-a3a9-4af4-a2b5-a714bb9c040b",
   "metadata": {},
   "outputs": [
    {
     "name": "stdout",
     "output_type": "stream",
     "text": [
      "777\n"
     ]
    }
   ],
   "source": [
    "import os\n",
    "\n",
    "# 路徑到要更改權限的資料夾\n",
    "folder_path = 'input'\n",
    "\n",
    "# 設置權限為 777\n",
    "os.chmod(folder_path, 0o777)\n",
    "\n",
    "# 驗證權限是否更改成功\n",
    "stat_info = os.stat(folder_path)\n",
    "print(oct(stat_info.st_mode)[-3:])\n"
   ]
  }
 ],
 "metadata": {
  "kernelspec": {
   "display_name": "Python 3 (ipykernel)",
   "language": "python",
   "name": "python3"
  },
  "language_info": {
   "codemirror_mode": {
    "name": "ipython",
    "version": 3
   },
   "file_extension": ".py",
   "mimetype": "text/x-python",
   "name": "python",
   "nbconvert_exporter": "python",
   "pygments_lexer": "ipython3",
   "version": "3.10.6"
  }
 },
 "nbformat": 4,
 "nbformat_minor": 5
}
