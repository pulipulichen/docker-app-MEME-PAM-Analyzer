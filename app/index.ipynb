{
 "cells": [
  {
   "cell_type": "code",
   "execution_count": 113,
   "id": "6ac6f0cd-2ab0-4fe4-8937-20bab88267c7",
   "metadata": {},
   "outputs": [
    {
     "data": {
      "application/vnd.jupyter.widget-view+json": {
       "model_id": "f9c0e4844a0344b3ac46fb9b755f0b1f",
       "version_major": 2,
       "version_minor": 0
      },
      "text/plain": [
       "VBox(children=(HTML(value='<b>Max K</b> (\"auto\" or a number from 2)'), Text(value='auto', layout=Layout(width=…"
      ]
     },
     "metadata": {},
     "output_type": "display_data"
    },
    {
     "data": {
      "application/vnd.jupyter.widget-view+json": {
       "model_id": "0a1ea037947c4a608f5d57a5e19c49d4",
       "version_major": 2,
       "version_minor": 0
      },
      "text/plain": [
       "VBox(children=(HTML(value='<b>Visual Representation Models</b>'), Textarea(value='[\\n        {\\n            \"m…"
      ]
     },
     "metadata": {},
     "output_type": "display_data"
    },
    {
     "data": {
      "application/vnd.jupyter.widget-view+json": {
       "model_id": "a392699226124f6496bc284b24d4a07c",
       "version_major": 2,
       "version_minor": 0
      },
      "text/plain": [
       "VBox(children=(HTML(value='<b>Semantic Representation Models</b>'), Textarea(value='[\\n        \"distilroberta-…"
      ]
     },
     "metadata": {},
     "output_type": "display_data"
    }
   ],
   "source": [
    "%run ./components/index.ipynb"
   ]
  },
  {
   "cell_type": "code",
   "execution_count": 114,
   "id": "d34fff11-6054-4434-bd5c-13df440323ff",
   "metadata": {},
   "outputs": [
    {
     "name": "stdout",
     "output_type": "stream",
     "text": [
      "1/1 [==============================] - 1s 1s/step\n",
      "1/1 [==============================] - 1s 922ms/step\n",
      "1/1 [==============================] - 1s 995ms/step\n",
      "1/1 [==============================] - 1s 1s/step\n",
      "1/1 [==============================] - 1s 1s/step\n",
      "1/1 [==============================] - 1s 1s/step\n",
      "1/1 [==============================] - 1s 884ms/step\n",
      "1/1 [==============================] - 1s 1s/step\n",
      "1/1 [==============================] - 1s 1s/step\n",
      "1/1 [==============================] - 1s 1s/step\n",
      "1/1 [==============================] - 1s 1s/step\n",
      "1/1 [==============================] - 1s 1s/step\n",
      "visual_pca-VGG16_fc1.db\n",
      "visual_pca-ConvNeXtLarge_convnext_large_head_layernorm.db\n",
      "visual_pca-EfficientNetV2B0_avg_pool.db\n",
      "semantic_pca-all-MiniLM-L12-v2.db\n",
      "visual_pca-ConvNeXtXLarge_convnext_xlarge_head_layernorm.db\n",
      "visual_pca-ConvNeXtLarge_convnext_large_head_gap.db\n",
      "visual_pca-VGG19_fc2.db\n",
      "visual_pca-EfficientNetV2B0_top_activation.db\n",
      "visual_pca-VGG16_fc2.db\n",
      "semantic_pca-all-MiniLM-L6-v2.db\n",
      "visual_pca-VGG19_fc1.db\n",
      "visual_pca-ConvNeXtXLarge_convnext_xlarge_head_gap.db\n",
      "semantic_pca-paraphrase-multilingual-mpnet-base-v2.db\n",
      "semantic_pca-distilroberta-base-paraphrase-v1.db\n"
     ]
    }
   ],
   "source": [
    "extract_representation()\n",
    "db_feature_to_pca()"
   ]
  }
 ],
 "metadata": {
  "kernelspec": {
   "display_name": "Python 3 (ipykernel)",
   "language": "python",
   "name": "python3"
  },
  "language_info": {
   "codemirror_mode": {
    "name": "ipython",
    "version": 3
   },
   "file_extension": ".py",
   "mimetype": "text/x-python",
   "name": "python",
   "nbconvert_exporter": "python",
   "pygments_lexer": "ipython3",
   "version": "3.10.6"
  }
 },
 "nbformat": 4,
 "nbformat_minor": 5
}
