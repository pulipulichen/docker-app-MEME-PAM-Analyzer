{
 "cells": [
  {
   "cell_type": "code",
   "execution_count": 13,
   "id": "6ac6f0cd-2ab0-4fe4-8937-20bab88267c7",
   "metadata": {},
   "outputs": [
    {
     "data": {
      "application/vnd.jupyter.widget-view+json": {
       "model_id": "206ee5cf0d754bdc9c9445dc608bc472",
       "version_major": 2,
       "version_minor": 0
      },
      "text/plain": [
       "VBox(children=(HTML(value='<b>Data Path</b> (\"./input/data/\")'), Text(value='./input/data/', layout=Layout(wid…"
      ]
     },
     "metadata": {},
     "output_type": "display_data"
    },
    {
     "data": {
      "application/vnd.jupyter.widget-view+json": {
       "model_id": "1f574360650a4786b6f40839c72c438e",
       "version_major": 2,
       "version_minor": 0
      },
      "text/plain": [
       "VBox(children=(HTML(value='<b>Calculate F1 Score</b> (set True for running an experiment)'), Dropdown(options=…"
      ]
     },
     "metadata": {},
     "output_type": "display_data"
    },
    {
     "data": {
      "application/vnd.jupyter.widget-view+json": {
       "model_id": "3e48d50cb61b46a287cd85fe72bcfb79",
       "version_major": 2,
       "version_minor": 0
      },
      "text/plain": [
       "VBox(children=(HTML(value='<b>Max K</b> (\"auto\" or a number from 2)'), Text(value='2', layout=Layout(width='90…"
      ]
     },
     "metadata": {},
     "output_type": "display_data"
    },
    {
     "data": {
      "application/vnd.jupyter.widget-view+json": {
       "model_id": "3a47d6e8061d43ea9ef8d3d93519b8d0",
       "version_major": 2,
       "version_minor": 0
      },
      "text/plain": [
       "VBox(children=(HTML(value='<b>Visual Representation Models</b>'), Textarea(value='[{\\'model_name\\': \\'ConvNeXt…"
      ]
     },
     "metadata": {},
     "output_type": "display_data"
    },
    {
     "data": {
      "application/vnd.jupyter.widget-view+json": {
       "model_id": "8397bded32574640870b186d17f43efd",
       "version_major": 2,
       "version_minor": 0
      },
      "text/plain": [
       "VBox(children=(HTML(value='<b>Semantic Representation Models</b>'), Textarea(value=\"['distilroberta-base-parap…"
      ]
     },
     "metadata": {},
     "output_type": "display_data"
    }
   ],
   "source": [
    "%run ./components/index.ipynb"
   ]
  },
  {
   "cell_type": "code",
   "execution_count": 14,
   "id": "d34fff11-6054-4434-bd5c-13df440323ff",
   "metadata": {},
   "outputs": [
    {
     "name": "stdout",
     "output_type": "stream",
     "text": [
      "./input/data/visual_cluster-ConvNeXtLarge_convnext_large_head_gap.db\n",
      "./input/data/semantic_cluster-paraphrase-multilingual-mpnet-base-v2.db\n",
      "./input/data/visual_cluster-VGG16_fc2.db\n",
      "./input/data/semantic_cluster-all-MiniLM-L12-v2.db\n",
      "./input/data/visual_cluster-ConvNeXtXLarge_convnext_xlarge_head_gap.db\n",
      "./input/data/visual_cluster-EfficientNetV2B0_top_activation.db\n",
      "./input/data/semantic_cluster-distilroberta-base-paraphrase-v1.db\n",
      "./input/data/visual_cluster-VGG19_fc2.db\n",
      "./input/data/visual_cluster-VGG19_fc1.db\n",
      "./input/data/visual_cluster-VGG16_fc1.db\n",
      "./input/data/visual_cluster-ConvNeXtLarge_convnext_large_head_layernorm.db\n",
      "./input/data/semantic_cluster-all-MiniLM-L6-v2.db\n",
      "./input/data/visual_cluster-ConvNeXtXLarge_convnext_xlarge_head_layernorm.db\n",
      "./input/data/visual_cluster-EfficientNetV2B0_avg_pool.db\n"
     ]
    }
   ],
   "source": [
    "if START_ANALYZING is True:\n",
    "    extract_representation()\n",
    "    db_feature_to_pca()\n",
    "    db_feature_to_cluster()\n",
    "    all_merge_pca_cluster()\n",
    "    \n",
    "    if CALC_F1_SCORE is True:\n",
    "        db_clusters_to_f1scores()"
   ]
  },
  {
   "cell_type": "code",
   "execution_count": 14,
   "id": "d6a592b3-fb9b-456e-9fe9-6a4b251967b3",
   "metadata": {},
   "outputs": [
    {
     "name": "stdout",
     "output_type": "stream",
     "text": [
      "./input/data/visual_cluster-ConvNeXtLarge_convnext_large_head_gap.db\n",
      "./input/data/semantic_cluster-paraphrase-multilingual-mpnet-base-v2.db\n",
      "./input/data/visual_cluster-VGG16_fc2.db\n",
      "./input/data/semantic_cluster-all-MiniLM-L12-v2.db\n",
      "./input/data/visual_cluster-ConvNeXtXLarge_convnext_xlarge_head_gap.db\n",
      "./input/data/visual_cluster-EfficientNetV2B0_top_activation.db\n",
      "./input/data/semantic_cluster-distilroberta-base-paraphrase-v1.db\n",
      "./input/data/visual_cluster-VGG19_fc2.db\n",
      "./input/data/visual_cluster-VGG19_fc1.db\n",
      "./input/data/visual_cluster-VGG16_fc1.db\n",
      "./input/data/visual_cluster-ConvNeXtLarge_convnext_large_head_layernorm.db\n",
      "./input/data/semantic_cluster-all-MiniLM-L6-v2.db\n",
      "./input/data/visual_cluster-ConvNeXtXLarge_convnext_xlarge_head_layernorm.db\n",
      "./input/data/visual_cluster-EfficientNetV2B0_avg_pool.db\n"
     ]
    }
   ],
   "source": [
    "if START_ANALYZING is True:\n",
    "    extract_representation()\n",
    "    db_feature_to_pca()\n",
    "    \n",
    "    all_merge_pca_cluster()"
   ]
  }
 ],
 "metadata": {
  "kernelspec": {
   "display_name": "Python 3 (ipykernel)",
   "language": "python",
   "name": "python3"
  },
  "language_info": {
   "codemirror_mode": {
    "name": "ipython",
    "version": 3
   },
   "file_extension": ".py",
   "mimetype": "text/x-python",
   "name": "python",
   "nbconvert_exporter": "python",
   "pygments_lexer": "ipython3",
   "version": "3.10.6"
  }
 },
 "nbformat": 4,
 "nbformat_minor": 5
}
