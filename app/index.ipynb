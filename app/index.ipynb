{
       "cells": [
        {
         "cell_type": "code",
         "execution_count": 47,
         "id": "6ac6f0cd-2ab0-4fe4-8937-20bab88267c7",
         "metadata": {},
         "outputs": [
          {
           "data": {
            "application/vnd.jupyter.widget-view+json": {
             "model_id": "81d26bacb35145a4aff7d42593ffdfaa",
             "version_major": 2,
             "version_minor": 0
            },
            "text/plain": [
             "VBox(children=(HTML(value='<b>Start Analyzing</b><br />(If you have completed setting up the form below, pleas…"
            ]
           },
           "metadata": {},
           "output_type": "display_data"
          },
          {
           "data": {
            "application/vnd.jupyter.widget-view+json": {
             "model_id": "1be0b025e1a444ecb51301074bf91b30",
             "version_major": 2,
             "version_minor": 0
            },
            "text/plain": [
             "VBox(children=(HTML(value='<b>Data Path</b> (\"./input/data/\")'), Text(value='./input/data_formal_20240530-1342…"
            ]
           },
           "metadata": {},
           "output_type": "display_data"
          },
          {
           "data": {
            "application/vnd.jupyter.widget-view+json": {
             "model_id": "8e3514f62d5348d0b4afc05e642adaa2",
             "version_major": 2,
             "version_minor": 0
            },
            "text/plain": [
             "VBox(children=(HTML(value='<b>Calculate F1 Score</b> (set True for running an experiment)'), Dropdown(index=1,…"
            ]
           },
           "metadata": {},
           "output_type": "display_data"
          },
          {
           "data": {
            "application/vnd.jupyter.widget-view+json": {
             "model_id": "69429f920dda42e197bfb670d8baae14",
             "version_major": 2,
             "version_minor": 0
            },
            "text/plain": [
             "VBox(children=(HTML(value='<b>Max K</b><br />(\"auto\" or a number from 2. If \"Calculate F1 Score\" is True, Max …"
            ]
           },
           "metadata": {},
           "output_type": "display_data"
          },
          {
           "data": {
            "application/vnd.jupyter.widget-view+json": {
             "model_id": "7fa9ab4f47d2425e9652ab7a3485020d",
             "version_major": 2,
             "version_minor": 0
            },
            "text/plain": [
             "VBox(children=(HTML(value='<b>Min K</b>'), Text(value='3', layout=Layout(width='90%'), placeholder='2')))"
            ]
           },
           "metadata": {},
           "output_type": "display_data"
          },
          {
           "data": {
            "application/vnd.jupyter.widget-view+json": {
             "model_id": "26a47c35df2840e0bf96f6a82038b561",
             "version_major": 2,
             "version_minor": 0
            },
            "text/plain": [
             "VBox(children=(HTML(value='<b>Visual Representation Models</b>'), Textarea(value='[{\\n            \"model_name\"…"
            ]
           },
           "metadata": {},
           "output_type": "display_data"
          },
          {
           "data": {
            "application/vnd.jupyter.widget-view+json": {
             "model_id": "609d7274c40e47af842483fb8bcbb060",
             "version_major": 2,
             "version_minor": 0
            },
            "text/plain": [
             "VBox(children=(HTML(value='<b>Semantic Representation Models</b>'), Textarea(value=\"['all-MiniLM-L12-v2']\", la…"
            ]
           },
           "metadata": {},
           "output_type": "display_data"
          },
          {
           "name": "stdout",
           "output_type": "stream",
           "text": [
            "MAX_K is 20\n"
           ]
          }
         ],
         "source": [
          "%run ./components/index.ipynb"
         ]
        },
        {
         "cell_type": "code",
         "execution_count": 48,
         "id": "d34fff11-6054-4434-bd5c-13df440323ff",
         "metadata": {},
         "outputs": [
          {
           "name": "stdout",
           "output_type": "stream",
           "text": [
            "========================================================\n",
            "Start time: 2024-06-01 17:27:35.281418\n",
            "========================================================\n",
            "Start to cluster: visual_representation-ConvNeXtLarge_convnext_large_head_layernorm.db\n",
            "Start to cluster: semantic_representation-all-MiniLM-L12-v2.db\n",
            "{'visual_cluster-ConvNeXtLarge_convnext_large_head_layernorm.db': 9, 'semantic_cluster-all-MiniLM-L12-v2.db': 6}\n",
            "./input/data_formal_20240530-1342/visual_cluster-ConvNeXtLarge_convnext_large_head_layernorm.db\n",
            "visual_cluster-ConvNeXtLarge_convnext_large_head_layernorm.db\n",
            "./input/data_formal_20240530-1342/semantic_cluster-all-MiniLM-L12-v2.db\n",
            "semantic_cluster-all-MiniLM-L12-v2.db\n",
            "========================================================\n",
            "End time: 2024-06-01 17:29:18.376550\n",
            "Script execution time: 1.72 minutes\n",
            "========================================================\n"
           ]
          }
         ],
         "source": [
          "import datetime\n",
          "import time\n",
          "\n",
          "if START_ANALYZING is True:\n",
          "    start_time = time.time()\n",
          "    print(\"========================================================\")\n",
          "    print(\"Start time:\", datetime.datetime.now())\n",
          "    print(\"========================================================\")\n",
          "    \n",
          "    extract_representation()\n",
          "    db_feature_to_pca()\n",
          "    cluster_number_dict = db_feature_to_cluster()\n",
          "    all_merge_pca_cluster(cluster_number_dict)\n",
          "    \n",
          "    if CALC_F1_SCORE is True:\n",
          "        db_clusters_to_f1scores()\n",
          "    \n",
          "    end_time = time.time()\n",
          "    elapsed_time_minutes = (end_time - start_time) / 60\n",
          "    print(\"========================================================\")\n",
          "    print(\"End time:\", datetime.datetime.now())\n",
          "    print(\"Script execution time: {:.2f} minutes\".format(elapsed_time_minutes))\n",
          "    print(\"========================================================\")"
         ]
        },
        {
         "cell_type": "code",
         "execution_count": null,
         "id": "7d4ccffb-17f1-4b89-ba4c-ce700a33090b",
         "metadata": {},
         "outputs": [],
         "source": []
        },
        {
         "cell_type": "code",
         "execution_count": null,
         "id": "2d7ead94-d5d9-4974-9d3a-6cb8456d8cc5",
         "metadata": {},
         "outputs": [],
         "source": []
        }
       ],
       "metadata": {
        "kernelspec": {
         "display_name": "Python 3 (ipykernel)",
         "language": "python",
         "name": "python3"
        },
        "language_info": {
         "codemirror_mode": {
          "name": "ipython",
          "version": 3
         },
         "file_extension": ".py",
         "mimetype": "text/x-python",
         "name": "python",
         "nbconvert_exporter": "python",
         "pygments_lexer": "ipython3",
         "version": "3.10.6"
        }
       },
       "nbformat": 4,
       "nbformat_minor": 5
      }
      