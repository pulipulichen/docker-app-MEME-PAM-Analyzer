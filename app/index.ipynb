{
 "cells": [
  {
   "cell_type": "code",
   "execution_count": 1,
   "id": "e4ac7778-7d77-4422-93ad-0dadff2fcee0",
   "metadata": {},
   "outputs": [],
   "source": [
    "%run test.ipynb"
   ]
  },
  {
   "cell_type": "code",
   "execution_count": 3,
   "id": "485b90f9-717f-4e74-a70f-54f7d5be55ec",
   "metadata": {},
   "outputs": [],
   "source": [
    "from peewee import *\n",
    "\n",
    "db = SqliteDatabase('./input/people.db')\n",
    "\n",
    "class Person(Model):\n",
    "    name = CharField()\n",
    "    birthday = DateField()\n",
    "\n",
    "    class Meta:\n",
    "        database = db # This model uses the \"people.db\" database."
   ]
  },
  {
   "cell_type": "code",
   "execution_count": 4,
   "id": "877ee06d-e2c4-4c48-9cc1-377a8289086e",
   "metadata": {},
   "outputs": [],
   "source": [
    "class Pet(Model):\n",
    "    owner = ForeignKeyField(Person, backref='pets')\n",
    "    name = CharField()\n",
    "    animal_type = CharField()\n",
    "\n",
    "    class Meta:\n",
    "        database = db # this model uses the \"people.db\" database"
   ]
  },
  {
   "cell_type": "code",
   "execution_count": 5,
   "id": "fcede8d3-9263-40d8-b70e-982bda707464",
   "metadata": {},
   "outputs": [],
   "source": [
    "db.connect()\n",
    "db.create_tables([Person, Pet])"
   ]
  },
  {
   "cell_type": "code",
   "execution_count": 7,
   "id": "5e66914d-e23e-45a7-a8a6-09834a70701a",
   "metadata": {},
   "outputs": [
    {
     "data": {
      "text/plain": [
       "1"
      ]
     },
     "execution_count": 7,
     "metadata": {},
     "output_type": "execute_result"
    }
   ],
   "source": [
    "from datetime import date\n",
    "uncle_bob = Person(name='Bob', birthday=date(1960, 1, 15))\n",
    "uncle_bob.save() # bob is now stored in the database\n",
    "# Returns: 1"
   ]
  },
  {
   "cell_type": "code",
   "execution_count": 8,
   "id": "82ea6a10-8291-4197-a472-850726785beb",
   "metadata": {},
   "outputs": [
    {
     "data": {
      "text/plain": [
       "1"
      ]
     },
     "execution_count": 8,
     "metadata": {},
     "output_type": "execute_result"
    }
   ],
   "source": [
    "from datetime import date\n",
    "uncle_bob = Person(name='Bob2', birthday=date(1960, 1, 15))\n",
    "uncle_bob.save() # bob is now stored in the database\n",
    "# Returns: 1"
   ]
  }
 ],
 "metadata": {
  "kernelspec": {
   "display_name": "Python 3 (ipykernel)",
   "language": "python",
   "name": "python3"
  },
  "language_info": {
   "codemirror_mode": {
    "name": "ipython",
    "version": 3
   },
   "file_extension": ".py",
   "mimetype": "text/x-python",
   "name": "python",
   "nbconvert_exporter": "python",
   "pygments_lexer": "ipython3",
   "version": "3.10.6"
  }
 },
 "nbformat": 4,
 "nbformat_minor": 5
}
