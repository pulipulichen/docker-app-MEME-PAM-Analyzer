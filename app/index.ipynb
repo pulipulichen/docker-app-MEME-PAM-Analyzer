{
 "cells": [
  {
   "cell_type": "code",
   "execution_count": 17,
   "id": "6ac6f0cd-2ab0-4fe4-8937-20bab88267c7",
   "metadata": {},
   "outputs": [
    {
     "data": {
      "application/vnd.jupyter.widget-view+json": {
       "model_id": "f2db2477bf3d431faf36084521b799fe",
       "version_major": 2,
       "version_minor": 0
      },
      "text/plain": [
       "VBox(children=(HTML(value='<b>Max K</b> (\"auto\" or a number from 2)'), Text(value='auto', layout=Layout(width=…"
      ]
     },
     "metadata": {},
     "output_type": "display_data"
    },
    {
     "data": {
      "application/vnd.jupyter.widget-view+json": {
       "model_id": "9ca93ecb870143f8980958ed2cb5d3d1",
       "version_major": 2,
       "version_minor": 0
      },
      "text/plain": [
       "VBox(children=(HTML(value='<b>Visual Representation Models</b>'), Textarea(value='[{\\'model_name\\': \\'ConvNeXt…"
      ]
     },
     "metadata": {},
     "output_type": "display_data"
    },
    {
     "data": {
      "application/vnd.jupyter.widget-view+json": {
       "model_id": "8f33422a02894ee7b4f8fa0d741e102b",
       "version_major": 2,
       "version_minor": 0
      },
      "text/plain": [
       "VBox(children=(HTML(value='<b>Semantic Representation Models</b>'), Textarea(value=\"['']\", layout=Layout(heigh…"
      ]
     },
     "metadata": {},
     "output_type": "display_data"
    }
   ],
   "source": [
    "%run ./components/index.ipynb"
   ]
  },
  {
   "cell_type": "code",
   "execution_count": 18,
   "id": "d1ac60d3-f977-456d-bb2d-3f4278c50a22",
   "metadata": {},
   "outputs": [
    {
     "data": {
      "text/plain": [
       "array([-3.3310392, -1.1897726,  1.9544064, ..., -7.3606176,  4.7441173,\n",
       "        5.2393847], dtype=float32)"
      ]
     },
     "execution_count": 18,
     "metadata": {},
     "output_type": "execute_result"
    }
   ],
   "source": [
    "extract_representation_visaul(\n",
    "    image_path='./input/data/a/10th-Zoom-Meeting.avif.png', \n",
    "    model_name=\"ConvNeXtXLarge\",\n",
    "    model_config='keras.applications.convnext.ConvNeXtXLarge(weights=\"imagenet\",include_top=True)',\n",
    "    layer=\"convnext_xlarge_head_gap\"\n",
    ")"
   ]
  }
 ],
 "metadata": {
  "kernelspec": {
   "display_name": "Python 3 (ipykernel)",
   "language": "python",
   "name": "python3"
  },
  "language_info": {
   "codemirror_mode": {
    "name": "ipython",
    "version": 3
   },
   "file_extension": ".py",
   "mimetype": "text/x-python",
   "name": "python",
   "nbconvert_exporter": "python",
   "pygments_lexer": "ipython3",
   "version": "3.10.6"
  }
 },
 "nbformat": 4,
 "nbformat_minor": 5
}
