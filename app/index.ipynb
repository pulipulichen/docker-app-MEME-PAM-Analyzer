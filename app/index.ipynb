{
 "cells": [
  {
   "cell_type": "code",
   "execution_count": 37,
   "id": "6ac6f0cd-2ab0-4fe4-8937-20bab88267c7",
   "metadata": {},
   "outputs": [
    {
     "data": {
      "application/vnd.jupyter.widget-view+json": {
       "model_id": "7fd1474879dc44a18c0c460beaca5a5c",
       "version_major": 2,
       "version_minor": 0
      },
      "text/plain": [
       "VBox(children=(HTML(value='<b>Start Analyzing</b><br />(If you have completed setting up the form below, pleas…"
      ]
     },
     "metadata": {},
     "output_type": "display_data"
    },
    {
     "data": {
      "application/vnd.jupyter.widget-view+json": {
       "model_id": "206ee5cf0d754bdc9c9445dc608bc472",
       "version_major": 2,
       "version_minor": 0
      },
      "text/plain": [
       "VBox(children=(HTML(value='<b>Data Path</b> (\"./input/data/\")'), Text(value='./input/data', layout=Layout(widt…"
      ]
     },
     "metadata": {},
     "output_type": "display_data"
    },
    {
     "data": {
      "application/vnd.jupyter.widget-view+json": {
       "model_id": "1f574360650a4786b6f40839c72c438e",
       "version_major": 2,
       "version_minor": 0
      },
      "text/plain": [
       "VBox(children=(HTML(value='<b>Calculate F1 Score</b> (set True for running an experiment)'), Dropdown(options=…"
      ]
     },
     "metadata": {},
     "output_type": "display_data"
    },
    {
     "data": {
      "application/vnd.jupyter.widget-view+json": {
       "model_id": "3e48d50cb61b46a287cd85fe72bcfb79",
       "version_major": 2,
       "version_minor": 0
      },
      "text/plain": [
       "VBox(children=(HTML(value='<b>Max K</b> (\"auto\" or a number from 2)'), Text(value='auto', layout=Layout(width=…"
      ]
     },
     "metadata": {},
     "output_type": "display_data"
    },
    {
     "data": {
      "application/vnd.jupyter.widget-view+json": {
       "model_id": "3a47d6e8061d43ea9ef8d3d93519b8d0",
       "version_major": 2,
       "version_minor": 0
      },
      "text/plain": [
       "VBox(children=(HTML(value='<b>Visual Representation Models</b>'), Textarea(value='[{\\'model_name\\': \\'ConvNeXt…"
      ]
     },
     "metadata": {},
     "output_type": "display_data"
    },
    {
     "data": {
      "application/vnd.jupyter.widget-view+json": {
       "model_id": "8397bded32574640870b186d17f43efd",
       "version_major": 2,
       "version_minor": 0
      },
      "text/plain": [
       "VBox(children=(HTML(value='<b>Semantic Representation Models</b>'), Textarea(value=\"['distilroberta-base-parap…"
      ]
     },
     "metadata": {},
     "output_type": "display_data"
    }
   ],
   "source": [
    "%run ./components/index.ipynb"
   ]
  },
  {
   "cell_type": "code",
   "execution_count": null,
   "id": "d34fff11-6054-4434-bd5c-13df440323ff",
   "metadata": {},
   "outputs": [
    {
     "name": "stdout",
     "output_type": "stream",
     "text": [
      "==================================\n",
      "Start time: 2024-01-28 22:40:28.191765\n",
      "==================================\n",
      "1/1 [==============================] - 2s 2s/step\n",
      "1/1 [==============================] - 0s 391ms/step\n",
      "Image resized by -244.0 * -244.0 in 1 pass(es)\n",
      "Using Good Feature Tracking method\n",
      "Found center at {'x': 110.44, 'y': 145.72, 'count': 50}\n",
      "Crop rectangle is {'left': 0, 'right': 256, 'top': 0, 'bottom': 256}\n"
     ]
    }
   ],
   "source": [
    "import datetime\n",
    "import time\n",
    "\n",
    "if START_ANALYZING is True:\n",
    "    start_time = time.time()\n",
    "    print(\"========================================================\")\n",
    "    print(\"Start time:\", datetime.datetime.now())\n",
    "    print(\"========================================================\")\n",
    "    \n",
    "    extract_representation()\n",
    "    db_feature_to_pca()\n",
    "    db_feature_to_cluster()\n",
    "    all_merge_pca_cluster()\n",
    "    \n",
    "    if CALC_F1_SCORE is True:\n",
    "        db_clusters_to_f1scores()\n",
    "    \n",
    "    end_time = time.time()\n",
    "    elapsed_time_minutes = (end_time - start_time) / 60\n",
    "    print(\"========================================================\")\n",
    "    print(\"End time:\", datetime.datetime.now())\n",
    "    print(\"Script execution time: {:.2f} minutes\".format(elapsed_time_minutes))\n",
    "    print(\"========================================================\")"
   ]
  }
 ],
 "metadata": {
  "kernelspec": {
   "display_name": "Python 3 (ipykernel)",
   "language": "python",
   "name": "python3"
  },
  "language_info": {
   "codemirror_mode": {
    "name": "ipython",
    "version": 3
   },
   "file_extension": ".py",
   "mimetype": "text/x-python",
   "name": "python",
   "nbconvert_exporter": "python",
   "pygments_lexer": "ipython3",
   "version": "3.10.6"
  }
 },
 "nbformat": 4,
 "nbformat_minor": 5
}
